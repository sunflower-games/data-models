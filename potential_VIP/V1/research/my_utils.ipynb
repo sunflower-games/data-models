{
 "cells": [
  {
   "cell_type": "code",
   "execution_count": 6,
   "id": "eeb927bd-eb3b-4e98-91df-f37004004a3d",
   "metadata": {},
   "outputs": [],
   "source": [
    "#read sql files\n",
    "def load_sql(filename):\n",
    "    with open(filename, 'r') as file:\n",
    "        return file.read()"
   ]
  },
  {
   "cell_type": "code",
   "execution_count": 9,
   "id": "7a9fb0aa-10d7-43a4-9417-ae0d4bcd6be8",
   "metadata": {},
   "outputs": [],
   "source": [
    "#split by hours\n",
    "def filter_by_time_limit(df, time_limits):    \n",
    "    filtered_dfs = {}\n",
    "    \n",
    "    for hours in time_limits:\n",
    "        time_limit = pd.Timedelta(hours=hours)\n",
    "        mask = ((df['redeem_time'] - df['signup_date'] <= time_limit) | \n",
    "                (df['transaction_date_time'] - df['signup_date'] <= time_limit))\n",
    "        filtered_dfs[f'{hours}h'] = df[mask]\n",
    "    \n",
    "    return filtered_dfs"
   ]
  },
  {
   "cell_type": "code",
   "execution_count": null,
   "id": "b30b8faf-5351-4ccc-8be5-28939fa5ee6e",
   "metadata": {},
   "outputs": [],
   "source": [
    "#trim outliers\n",
    "def trim_outliers_quantile(df, feature_list, lower_quantile=0.01, upper_quantile=0.99):\n",
    "    df_trimmed = df.copy()  \n",
    "    for feature in feature_list:\n",
    "        lower_bound = df[feature].quantile(lower_quantile)\n",
    "        upper_bound = df[feature].quantile(upper_quantile)\n",
    "        \n",
    "        # Trim values below the lower bound\n",
    "        df_trimmed[feature] = df_trimmed[feature].clip(lower=lower_bound)\n",
    "        # Trim values above the upper bound\n",
    "        df_trimmed[feature] = df_trimmed[feature].clip(upper=upper_bound)\n",
    "    \n",
    "    return df_trimmed"
   ]
  },
  {
   "cell_type": "code",
   "execution_count": null,
   "id": "922a1bc0-d658-43d5-a8cd-c4708b4e9897",
   "metadata": {},
   "outputs": [],
   "source": [
    "#create dummy variables\n",
    "\n",
    "def process_column(df, column, top_values):\n",
    "    # Replace values based on top_values and \"other\"\n",
    "    df[column] = np.where(df[column].isin(top_values),\n",
    "                          df[column].str.replace(\"\\..*\", \"\", regex=True) if df[column].dtype == 'object' else df[column],\n",
    "                          \"other\")\n",
    "    \n",
    "    # Create dummy variables for the modified column\n",
    "    df = pd.get_dummies(data=df, columns=[column], dtype=int)\n",
    "    \n",
    "    return df"
   ]
  },
  {
   "cell_type": "code",
   "execution_count": null,
   "id": "98102aa3-11f5-4159-8091-2c1bc3911f41",
   "metadata": {},
   "outputs": [],
   "source": [
    "##log transform features and drop old ones\n",
    "\n",
    "def log_transform_columns(df, columns):\n",
    "    epsilon = 1e-10\n",
    "    \n",
    "    for column in columns:\n",
    "        df[f'ln_{column}'] = np.log(df[column] + epsilon)\n",
    "    \n",
    "    # Drop the original columns\n",
    "    df.drop(columns, axis=1, inplace=True)\n",
    "    \n",
    "    return df"
   ]
  }
 ],
 "metadata": {
  "kernelspec": {
   "display_name": "Python 3 (ipykernel)",
   "language": "python",
   "name": "python3"
  },
  "language_info": {
   "codemirror_mode": {
    "name": "ipython",
    "version": 3
   },
   "file_extension": ".py",
   "mimetype": "text/x-python",
   "name": "python",
   "nbconvert_exporter": "python",
   "pygments_lexer": "ipython3",
   "version": "3.12.4"
  }
 },
 "nbformat": 4,
 "nbformat_minor": 5
}
