{
 "cells": [
  {
   "cell_type": "code",
   "execution_count": 1,
   "id": "2a134d7e-3e28-4ac2-b9c2-bf6d4d02ebd7",
   "metadata": {},
   "outputs": [
    {
     "name": "stderr",
     "output_type": "stream",
     "text": [
      "/var/folders/52/16l8f4r11n1b1bthpmm5505w0000gn/T/ipykernel_33068/1435207182.py:12: DeprecationWarning: Importing display from IPython.core.display is deprecated since IPython 7.14, please import from IPython display\n",
      "  from IPython.core.display import display, HTML\n"
     ]
    },
    {
     "name": "stdout",
     "output_type": "stream",
     "text": [
      "Please visit this URL to authorize this application: https://accounts.google.com/o/oauth2/auth?response_type=code&client_id=127259169819-6jg2fe7gb3mgpj4kog72t599c26uekat.apps.googleusercontent.com&redirect_uri=http%3A%2F%2Flocalhost%3A54289%2F&scope=https%3A%2F%2Fwww.googleapis.com%2Fauth%2Fcloud-platform&state=huBX9Y3SQkEb0ZkSlosPcHPkVQ1BYY&access_type=offline\n"
     ]
    },
    {
     "name": "stderr",
     "output_type": "stream",
     "text": [
      "<>:6: SyntaxWarning: invalid escape sequence '\\.'\n",
      "/var/folders/52/16l8f4r11n1b1bthpmm5505w0000gn/T/ipykernel_33068/1242829460.py:6: SyntaxWarning: invalid escape sequence '\\.'\n",
      "  df[column].str.replace(\"\\..*\", \"\", regex=True) if df[column].dtype == 'object' else df[column],\n"
     ]
    }
   ],
   "source": [
    "#\n",
    "%run ./connectors.ipynb\n",
    "%run ./my_utils.ipynb"
   ]
  },
  {
   "cell_type": "code",
   "execution_count": 459,
   "id": "e7714316-d9bb-4c72-bd78-40066f85c2f1",
   "metadata": {},
   "outputs": [],
   "source": [
    "#upload model pickle\n",
    "with open('xgb_model_v1_model.pkl', 'rb') as file:\n",
    "    xgb_model_loaded = pickle.load(file)"
   ]
  },
  {
   "cell_type": "code",
   "execution_count": null,
   "id": "0f9ea8ce-3a74-47b3-a4be-c1dcc1c3f023",
   "metadata": {},
   "outputs": [],
   "source": [
    "dataset = load_sql('dataset.sql')\n",
    "df= client.query(dataset).to_dataframe()"
   ]
  },
  {
   "cell_type": "code",
   "execution_count": null,
   "id": "a394ee3e-44e1-4abe-99f9-fc7ff6b6890e",
   "metadata": {},
   "outputs": [],
   "source": [
    "with open('debugging_X_var.txt', 'r') as f:\n",
    "    column_list = [line.strip() for line in f.readlines()]"
   ]
  },
  {
   "cell_type": "code",
   "execution_count": null,
   "id": "8fa19197-ba10-48e0-b792-1be242b36127",
   "metadata": {},
   "outputs": [],
   "source": [
    "# Convert all string values in the DataFrame to lower case\n",
    "df = df.applymap(lambda x: x.lower() if isinstance(x, str) else x)"
   ]
  },
  {
   "cell_type": "code",
   "execution_count": 438,
   "id": "5a7d3c1a-a155-402e-814e-71b67d15ba20",
   "metadata": {},
   "outputs": [],
   "source": [
    "## define hardcoded_features\n",
    "top_email_domain = ['gmail.com', 'yahoo.com', 'privaterelay.appleid.com', 'icloud.com']\n",
    "top_channel = ['google', 'app', 'facebook', 'invite friend', 'sidelines'] \n",
    "geo_loc = ['california', 'texas', 'florida', 'illinois', 'georgia']\n",
    "platform = ['web', 'app']\n",
    "\n",
    "\n",
    "#####features apply dummy variables function\n",
    "df = process_column(df, \"signup_email_domain\", top_email_domain)\n",
    "df = process_column(df, \"channel\", top_channel)\n",
    "df = process_column(df, \"first_geo_region\", geo_loc)\n",
    "df = process_column(df, \"signup_platform\", platform)"
   ]
  },
  {
   "cell_type": "code",
   "execution_count": 439,
   "id": "49844e2f-bbb5-40e4-9d6e-f14f80a874e7",
   "metadata": {},
   "outputs": [],
   "source": [
    "##transform the columns into log and drop\n",
    "\n",
    "columns_to_transform = [\n",
    "    'total_bet_amt',\n",
    "    'total_win_amt_sc',\n",
    "    'total_win_amt_cc',\n",
    "    'sum_redeem_amt',\n",
    "    'sum_amt_total',\n",
    "    'sum_sc_coin_total'\n",
    "]\n",
    "\n",
    "df = log_transform_columns(df, columns_to_transform)"
   ]
  },
  {
   "cell_type": "code",
   "execution_count": 440,
   "id": "9351ec7a-f9e2-4673-a6b2-68e91539d8ac",
   "metadata": {},
   "outputs": [],
   "source": [
    "df['time_diff_minutes'] = (df['first_purchase_date'] - df['signup_date']).dt.total_seconds() / 3600"
   ]
  },
  {
   "cell_type": "code",
   "execution_count": 447,
   "id": "f35cddef-2c2b-4baa-b625-93a01211903f",
   "metadata": {},
   "outputs": [],
   "source": [
    "df = df.fillna(0)"
   ]
  },
  {
   "cell_type": "code",
   "execution_count": 449,
   "id": "6317ecd6-c829-4bc8-a384-fd4b90d0b1ce",
   "metadata": {},
   "outputs": [],
   "source": [
    "missing_columns = [col for col in column_list if col not in df.columns]\n",
    "\n",
    "if missing_columns:\n",
    "    print(f\"Error: Missing columns: {', '.join(missing_columns)}\")\n",
    "    exit(1)  # Exit if any column is missing\n",
    "\n",
    "# Generate new variable X from df including the required columns\n",
    "X = df[column_list]"
   ]
  },
  {
   "cell_type": "code",
   "execution_count": 453,
   "id": "720db3b9-8663-466f-a5c4-482fec6411aa",
   "metadata": {},
   "outputs": [
    {
     "ename": "ValueError",
     "evalue": "feature_names mismatch: ['avg_spin_amt', 'rtp_ratio', 'ggr_amt', 'logins_first_96h', 'total_bet_txn', 'max_purchase_amt_horly', 'max_redeem_amt_hourly', 'sum_redeem_txn', 'cnt_txn_total', 'sum_spin_sc', 'sum_spin_cc', 'max_eod_sc_balance', 'sum_bonus_wheel', 'sum_bonus_plinko', 'sum_offer_amt', 'sum_bonus_amt', 'sum_daily_mission', 'sum_leaderboard_reward', 'time_diff_minutes', 'days_of_activity', 'max_bet_amt', 'min_bet_amount', 'max_win_amt', 'avg_rounds_bet', 'avg_bet_amt', 'max_daily_games_unique', 'sum_bonus_promotion_bet_amount', 'signup_email_domain_gmail', 'signup_email_domain_icloud', 'signup_email_domain_other', 'signup_email_domain_privaterelay', 'signup_email_domain_yahoo', 'channel_App', 'channel_Invite Friend', 'channel_facebook', 'channel_google', 'channel_other', 'first_geo_region_other', 'signup_platform_app', 'ln_total_bet_amt', 'ln_total_win_amt_sc', 'ln_total_win_amt_cc', 'ln_sum_redeem_amt', 'ln_sum_amt_total', 'ln_sum_sc_coin_total', 'first_purchase_amt'] ['avg_spin_amt', 'rtp_ratio', 'ggr_amt', 'logins_first_96h', 'total_bet_txn', 'max_purchase_amt_horly', 'max_redeem_amt_hourly', 'sum_redeem_txn', 'cnt_txn_total', 'sum_spin_sc', 'sum_spin_cc', 'max_eod_sc_balance', 'sum_bonus_wheel', 'sum_bonus_plinko', 'sum_offer_amt', 'sum_bonus_amt', 'sum_daily_mission', 'sum_leaderboard_reward', 'time_diff_minutes', 'days_of_activity', 'max_bet_amt', 'min_bet_amount', 'max_win_amt', 'avg_rounds_bet', 'avg_bet_amt', 'max_daily_games_unique', 'sum_bonus_promotion_bet_amount', 'signup_email_domain_gmail', 'signup_email_domain_icloud', 'signup_email_domain_other', 'signup_email_domain_privaterelay', 'signup_email_domain_yahoo', 'channel_app', 'channel_invite friend', 'channel_facebook', 'channel_google', 'channel_other', 'first_geo_region_other', 'signup_platform_app', 'ln_total_bet_amt', 'ln_total_win_amt_sc', 'ln_total_win_amt_cc', 'ln_sum_redeem_amt', 'ln_sum_amt_total', 'ln_sum_sc_coin_total', 'first_purchase_amt']\nexpected channel_App, channel_Invite Friend in input data\ntraining data did not have the following fields: channel_invite friend, channel_app",
     "output_type": "error",
     "traceback": [
      "\u001b[0;31m---------------------------------------------------------------------------\u001b[0m",
      "\u001b[0;31mValueError\u001b[0m                                Traceback (most recent call last)",
      "Cell \u001b[0;32mIn[453], line 1\u001b[0m\n\u001b[0;32m----> 1\u001b[0m probabilities \u001b[38;5;241m=\u001b[39m xgb_model_loaded\u001b[38;5;241m.\u001b[39mpredict_proba(X)\n\u001b[1;32m      2\u001b[0m df[\u001b[38;5;124m'\u001b[39m\u001b[38;5;124mprobability_positive_class\u001b[39m\u001b[38;5;124m'\u001b[39m] \u001b[38;5;241m=\u001b[39m probabilities[:, \u001b[38;5;241m1\u001b[39m]\n\u001b[1;32m      4\u001b[0m df[\u001b[38;5;124m'\u001b[39m\u001b[38;5;124mpotential_vip_ind\u001b[39m\u001b[38;5;124m'\u001b[39m] \u001b[38;5;241m=\u001b[39m \u001b[38;5;241m0\u001b[39m\n",
      "File \u001b[0;32m/opt/anaconda3/lib/python3.12/site-packages/xgboost/sklearn.py:1644\u001b[0m, in \u001b[0;36mXGBClassifier.predict_proba\u001b[0;34m(self, X, validate_features, base_margin, iteration_range)\u001b[0m\n\u001b[1;32m   1642\u001b[0m     class_prob \u001b[38;5;241m=\u001b[39m softmax(raw_predt, axis\u001b[38;5;241m=\u001b[39m\u001b[38;5;241m1\u001b[39m)\n\u001b[1;32m   1643\u001b[0m     \u001b[38;5;28;01mreturn\u001b[39;00m class_prob\n\u001b[0;32m-> 1644\u001b[0m class_probs \u001b[38;5;241m=\u001b[39m \u001b[38;5;28msuper\u001b[39m()\u001b[38;5;241m.\u001b[39mpredict(\n\u001b[1;32m   1645\u001b[0m     X\u001b[38;5;241m=\u001b[39mX,\n\u001b[1;32m   1646\u001b[0m     validate_features\u001b[38;5;241m=\u001b[39mvalidate_features,\n\u001b[1;32m   1647\u001b[0m     base_margin\u001b[38;5;241m=\u001b[39mbase_margin,\n\u001b[1;32m   1648\u001b[0m     iteration_range\u001b[38;5;241m=\u001b[39miteration_range,\n\u001b[1;32m   1649\u001b[0m )\n\u001b[1;32m   1650\u001b[0m \u001b[38;5;28;01mreturn\u001b[39;00m _cls_predict_proba(\u001b[38;5;28mself\u001b[39m\u001b[38;5;241m.\u001b[39mn_classes_, class_probs, np\u001b[38;5;241m.\u001b[39mvstack)\n",
      "File \u001b[0;32m/opt/anaconda3/lib/python3.12/site-packages/xgboost/sklearn.py:1186\u001b[0m, in \u001b[0;36mXGBModel.predict\u001b[0;34m(self, X, output_margin, validate_features, base_margin, iteration_range)\u001b[0m\n\u001b[1;32m   1184\u001b[0m \u001b[38;5;28;01mif\u001b[39;00m \u001b[38;5;28mself\u001b[39m\u001b[38;5;241m.\u001b[39m_can_use_inplace_predict():\n\u001b[1;32m   1185\u001b[0m     \u001b[38;5;28;01mtry\u001b[39;00m:\n\u001b[0;32m-> 1186\u001b[0m         predts \u001b[38;5;241m=\u001b[39m \u001b[38;5;28mself\u001b[39m\u001b[38;5;241m.\u001b[39mget_booster()\u001b[38;5;241m.\u001b[39minplace_predict(\n\u001b[1;32m   1187\u001b[0m             data\u001b[38;5;241m=\u001b[39mX,\n\u001b[1;32m   1188\u001b[0m             iteration_range\u001b[38;5;241m=\u001b[39miteration_range,\n\u001b[1;32m   1189\u001b[0m             predict_type\u001b[38;5;241m=\u001b[39m\u001b[38;5;124m\"\u001b[39m\u001b[38;5;124mmargin\u001b[39m\u001b[38;5;124m\"\u001b[39m \u001b[38;5;28;01mif\u001b[39;00m output_margin \u001b[38;5;28;01melse\u001b[39;00m \u001b[38;5;124m\"\u001b[39m\u001b[38;5;124mvalue\u001b[39m\u001b[38;5;124m\"\u001b[39m,\n\u001b[1;32m   1190\u001b[0m             missing\u001b[38;5;241m=\u001b[39m\u001b[38;5;28mself\u001b[39m\u001b[38;5;241m.\u001b[39mmissing,\n\u001b[1;32m   1191\u001b[0m             base_margin\u001b[38;5;241m=\u001b[39mbase_margin,\n\u001b[1;32m   1192\u001b[0m             validate_features\u001b[38;5;241m=\u001b[39mvalidate_features,\n\u001b[1;32m   1193\u001b[0m         )\n\u001b[1;32m   1194\u001b[0m         \u001b[38;5;28;01mif\u001b[39;00m _is_cupy_alike(predts):\n\u001b[1;32m   1195\u001b[0m             \u001b[38;5;28;01mimport\u001b[39;00m \u001b[38;5;21;01mcupy\u001b[39;00m  \u001b[38;5;66;03m# pylint: disable=import-error\u001b[39;00m\n",
      "File \u001b[0;32m/opt/anaconda3/lib/python3.12/site-packages/xgboost/core.py:2510\u001b[0m, in \u001b[0;36mBooster.inplace_predict\u001b[0;34m(self, data, iteration_range, predict_type, missing, validate_features, base_margin, strict_shape)\u001b[0m\n\u001b[1;32m   2508\u001b[0m     data, fns, _ \u001b[38;5;241m=\u001b[39m _transform_pandas_df(data, enable_categorical)\n\u001b[1;32m   2509\u001b[0m     \u001b[38;5;28;01mif\u001b[39;00m validate_features:\n\u001b[0;32m-> 2510\u001b[0m         \u001b[38;5;28mself\u001b[39m\u001b[38;5;241m.\u001b[39m_validate_features(fns)\n\u001b[1;32m   2511\u001b[0m \u001b[38;5;28;01mif\u001b[39;00m _is_list(data) \u001b[38;5;129;01mor\u001b[39;00m _is_tuple(data):\n\u001b[1;32m   2512\u001b[0m     data \u001b[38;5;241m=\u001b[39m np\u001b[38;5;241m.\u001b[39marray(data)\n",
      "File \u001b[0;32m/opt/anaconda3/lib/python3.12/site-packages/xgboost/core.py:3075\u001b[0m, in \u001b[0;36mBooster._validate_features\u001b[0;34m(self, feature_names)\u001b[0m\n\u001b[1;32m   3069\u001b[0m \u001b[38;5;28;01mif\u001b[39;00m my_missing:\n\u001b[1;32m   3070\u001b[0m     msg \u001b[38;5;241m+\u001b[39m\u001b[38;5;241m=\u001b[39m (\n\u001b[1;32m   3071\u001b[0m         \u001b[38;5;124m\"\u001b[39m\u001b[38;5;130;01m\\n\u001b[39;00m\u001b[38;5;124mtraining data did not have the following fields: \u001b[39m\u001b[38;5;124m\"\u001b[39m\n\u001b[1;32m   3072\u001b[0m         \u001b[38;5;241m+\u001b[39m \u001b[38;5;124m\"\u001b[39m\u001b[38;5;124m, \u001b[39m\u001b[38;5;124m\"\u001b[39m\u001b[38;5;241m.\u001b[39mjoin(\u001b[38;5;28mstr\u001b[39m(s) \u001b[38;5;28;01mfor\u001b[39;00m s \u001b[38;5;129;01min\u001b[39;00m my_missing)\n\u001b[1;32m   3073\u001b[0m     )\n\u001b[0;32m-> 3075\u001b[0m \u001b[38;5;28;01mraise\u001b[39;00m \u001b[38;5;167;01mValueError\u001b[39;00m(msg\u001b[38;5;241m.\u001b[39mformat(\u001b[38;5;28mself\u001b[39m\u001b[38;5;241m.\u001b[39mfeature_names, feature_names))\n",
      "\u001b[0;31mValueError\u001b[0m: feature_names mismatch: ['avg_spin_amt', 'rtp_ratio', 'ggr_amt', 'logins_first_96h', 'total_bet_txn', 'max_purchase_amt_horly', 'max_redeem_amt_hourly', 'sum_redeem_txn', 'cnt_txn_total', 'sum_spin_sc', 'sum_spin_cc', 'max_eod_sc_balance', 'sum_bonus_wheel', 'sum_bonus_plinko', 'sum_offer_amt', 'sum_bonus_amt', 'sum_daily_mission', 'sum_leaderboard_reward', 'time_diff_minutes', 'days_of_activity', 'max_bet_amt', 'min_bet_amount', 'max_win_amt', 'avg_rounds_bet', 'avg_bet_amt', 'max_daily_games_unique', 'sum_bonus_promotion_bet_amount', 'signup_email_domain_gmail', 'signup_email_domain_icloud', 'signup_email_domain_other', 'signup_email_domain_privaterelay', 'signup_email_domain_yahoo', 'channel_App', 'channel_Invite Friend', 'channel_facebook', 'channel_google', 'channel_other', 'first_geo_region_other', 'signup_platform_app', 'ln_total_bet_amt', 'ln_total_win_amt_sc', 'ln_total_win_amt_cc', 'ln_sum_redeem_amt', 'ln_sum_amt_total', 'ln_sum_sc_coin_total', 'first_purchase_amt'] ['avg_spin_amt', 'rtp_ratio', 'ggr_amt', 'logins_first_96h', 'total_bet_txn', 'max_purchase_amt_horly', 'max_redeem_amt_hourly', 'sum_redeem_txn', 'cnt_txn_total', 'sum_spin_sc', 'sum_spin_cc', 'max_eod_sc_balance', 'sum_bonus_wheel', 'sum_bonus_plinko', 'sum_offer_amt', 'sum_bonus_amt', 'sum_daily_mission', 'sum_leaderboard_reward', 'time_diff_minutes', 'days_of_activity', 'max_bet_amt', 'min_bet_amount', 'max_win_amt', 'avg_rounds_bet', 'avg_bet_amt', 'max_daily_games_unique', 'sum_bonus_promotion_bet_amount', 'signup_email_domain_gmail', 'signup_email_domain_icloud', 'signup_email_domain_other', 'signup_email_domain_privaterelay', 'signup_email_domain_yahoo', 'channel_app', 'channel_invite friend', 'channel_facebook', 'channel_google', 'channel_other', 'first_geo_region_other', 'signup_platform_app', 'ln_total_bet_amt', 'ln_total_win_amt_sc', 'ln_total_win_amt_cc', 'ln_sum_redeem_amt', 'ln_sum_amt_total', 'ln_sum_sc_coin_total', 'first_purchase_amt']\nexpected channel_App, channel_Invite Friend in input data\ntraining data did not have the following fields: channel_invite friend, channel_app"
     ]
    }
   ],
   "source": [
    "probabilities = xgb_model_loaded.predict_proba(X)\n",
    "df['probability_positive_class'] = probabilities[:, 1]\n",
    "\n",
    "df['potential_vip_ind'] = 0\n",
    "\n",
    "# Filter users with probability above 0.9\n",
    "above_threshold = df[df['probability_positive_class'] > 0.9]\n",
    "\n",
    "# Randomly select half of those to receive a potential VIP indicator\n",
    "num_to_mark = len(above_threshold) // 2\n",
    "if num_to_mark > 0:\n",
    "    selected_indices = above_threshold.sample(num_to_mark).index\n",
    "    df.loc[selected_indices, 'potential_vip_ind'] = 1\n",
    "\n",
    "# Create a new DataFrame with adjusted probabilities\n",
    "df_vip = df[df['probability_positive_class'] > 0.9].copy()\n",
    "df_vip.loc[~df_vip.index.isin(selected_indices), 'probability_positive_class'] = np.nan"
   ]
  },
  {
   "cell_type": "code",
   "execution_count": 136,
   "id": "db0ef2c6-c0e2-428a-82c8-1fcbd4580376",
   "metadata": {},
   "outputs": [],
   "source": [
    "# Save DataFrame to a CSV file\n",
    "df_vip.to_csv('df_vip_sep29.csv', index=False)"
   ]
  },
  {
   "cell_type": "code",
   "execution_count": null,
   "id": "f215f1a2-dc14-4181-bb04-7de2255686e1",
   "metadata": {},
   "outputs": [],
   "source": []
  }
 ],
 "metadata": {
  "kernelspec": {
   "display_name": "Python 3 (ipykernel)",
   "language": "python",
   "name": "python3"
  },
  "language_info": {
   "codemirror_mode": {
    "name": "ipython",
    "version": 3
   },
   "file_extension": ".py",
   "mimetype": "text/x-python",
   "name": "python",
   "nbconvert_exporter": "python",
   "pygments_lexer": "ipython3",
   "version": "3.12.4"
  }
 },
 "nbformat": 4,
 "nbformat_minor": 5
}
