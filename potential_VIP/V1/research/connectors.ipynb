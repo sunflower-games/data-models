{
 "cells": [
  {
   "cell_type": "code",
   "execution_count": null,
   "id": "dd298ff5-cc02-45ec-b19a-a04c0b0d00ac",
   "metadata": {},
   "outputs": [
    {
     "name": "stderr",
     "output_type": "stream",
     "text": [
      "/var/folders/52/16l8f4r11n1b1bthpmm5505w0000gn/T/ipykernel_5150/2720097090.py:12: DeprecationWarning: Importing display from IPython.core.display is deprecated since IPython 7.14, please import from IPython display\n",
      "  from IPython.core.display import display, HTML\n"
     ]
    },
    {
     "name": "stdout",
     "output_type": "stream",
     "text": [
      "Please visit this URL to authorize this application: https://accounts.google.com/o/oauth2/auth?response_type=code&client_id=127259169819-6jg2fe7gb3mgpj4kog72t599c26uekat.apps.googleusercontent.com&redirect_uri=http%3A%2F%2Flocalhost%3A53583%2F&scope=https%3A%2F%2Fwww.googleapis.com%2Fauth%2Fcloud-platform&state=Xy5JMdef2O10Elxb0tG0hxq1OoJ5CK&access_type=offline\n"
     ]
    }
   ],
   "source": [
    "from google.oauth2 import id_token\n",
    "import pandas as pd\n",
    "import matplotlib as plt\n",
    "import numpy as np\n",
    "import matplotlib.pyplot as plt\n",
    "import tensorflow as tf\n",
    "import seaborn as sns\n",
    "import sklearn\n",
    "from google_auth_oauthlib.flow import InstalledAppFlow\n",
    "from google.auth.transport.requests import Request\n",
    "from google.cloud import bigquery\n",
    "from IPython.core.display import display, HTML\n",
    "import google.auth\n",
    "import nbimporter\n",
    "import joblib\n",
    "import catboost as cb\n",
    "from tensorflow import keras\n",
    "from sklearn.metrics import confusion_matrix, classification_report, ConfusionMatrixDisplay, precision_recall_curve, f1_score\n",
    "from sklearn.preprocessing import StandardScaler\n",
    "from sklearn.model_selection import train_test_split\n",
    "import os\n",
    "import pickle\n",
    "import tempfile\n",
    "import matplotlib.pyplot as plt\n",
    "colors = plt.cm.viridis\n",
    "\n",
    "\n",
    "flow = InstalledAppFlow.from_client_secrets_file(\n",
    "    '/Users/guybarakbianco/Desktop/personal/client_secret.json', \n",
    "    scopes=[\"https://www.googleapis.com/auth/cloud-platform\"]\n",
    ")\n",
    "\n",
    "# Run the flow to obtain credentials\n",
    "credentials = flow.run_local_server(port=0)\n",
    "\n",
    "# Use the credentials to create a BigQuery client\n",
    "project_id = \"crowncoins-casino\"\n",
    "client = bigquery.Client(credentials=credentials, project=project_id)\n",
    "\n"
   ]
  },
  {
   "cell_type": "code",
   "execution_count": null,
   "id": "ad1addf4-d34d-4f4a-a8cb-a8897e51b215",
   "metadata": {},
   "outputs": [],
   "source": []
  }
 ],
 "metadata": {
  "kernelspec": {
   "display_name": "Python 3 (ipykernel)",
   "language": "python",
   "name": "python3"
  },
  "language_info": {
   "codemirror_mode": {
    "name": "ipython",
    "version": 3
   },
   "file_extension": ".py",
   "mimetype": "text/x-python",
   "name": "python",
   "nbconvert_exporter": "python",
   "pygments_lexer": "ipython3",
   "version": "3.12.4"
  }
 },
 "nbformat": 4,
 "nbformat_minor": 5
}
