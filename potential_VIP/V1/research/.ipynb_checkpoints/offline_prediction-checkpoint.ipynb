{
 "cells": [
  {
   "cell_type": "code",
   "execution_count": 1,
   "id": "2a134d7e-3e28-4ac2-b9c2-bf6d4d02ebd7",
   "metadata": {},
   "outputs": [
    {
     "name": "stderr",
     "output_type": "stream",
     "text": [
      "/var/folders/52/16l8f4r11n1b1bthpmm5505w0000gn/T/ipykernel_33068/1435207182.py:12: DeprecationWarning: Importing display from IPython.core.display is deprecated since IPython 7.14, please import from IPython display\n",
      "  from IPython.core.display import display, HTML\n"
     ]
    },
    {
     "name": "stdout",
     "output_type": "stream",
     "text": [
      "Please visit this URL to authorize this application: https://accounts.google.com/o/oauth2/auth?response_type=code&client_id=127259169819-6jg2fe7gb3mgpj4kog72t599c26uekat.apps.googleusercontent.com&redirect_uri=http%3A%2F%2Flocalhost%3A54289%2F&scope=https%3A%2F%2Fwww.googleapis.com%2Fauth%2Fcloud-platform&state=huBX9Y3SQkEb0ZkSlosPcHPkVQ1BYY&access_type=offline\n"
     ]
    },
    {
     "name": "stderr",
     "output_type": "stream",
     "text": [
      "<>:6: SyntaxWarning: invalid escape sequence '\\.'\n",
      "/var/folders/52/16l8f4r11n1b1bthpmm5505w0000gn/T/ipykernel_33068/1242829460.py:6: SyntaxWarning: invalid escape sequence '\\.'\n",
      "  df[column].str.replace(\"\\..*\", \"\", regex=True) if df[column].dtype == 'object' else df[column],\n"
     ]
    }
   ],
   "source": [
    "#\n",
    "%run ./connectors.ipynb\n",
    "%run ./my_utils.ipynb"
   ]
  },
  {
   "cell_type": "code",
   "execution_count": 6,
   "id": "e7714316-d9bb-4c72-bd78-40066f85c2f1",
   "metadata": {},
   "outputs": [],
   "source": [
    "#upload model pickle\n",
    "with open('xgb_model_v1.pkl', 'rb') as file:\n",
    "    xgb_model_loaded = pickle.load(file)"
   ]
  },
  {
   "cell_type": "code",
   "execution_count": 40,
   "id": "0f9ea8ce-3a74-47b3-a4be-c1dcc1c3f023",
   "metadata": {},
   "outputs": [
    {
     "name": "stderr",
     "output_type": "stream",
     "text": [
      "/opt/anaconda3/lib/python3.12/site-packages/google/cloud/bigquery/table.py:1727: UserWarning: BigQuery Storage module not found, fetch data with the REST endpoint instead.\n",
      "  warnings.warn(\n"
     ]
    }
   ],
   "source": [
    "dataset = load_sql('dataset.sql')\n",
    "df= client.query(dataset).to_dataframe()"
   ]
  },
  {
   "cell_type": "code",
   "execution_count": 42,
   "id": "a394ee3e-44e1-4abe-99f9-fc7ff6b6890e",
   "metadata": {},
   "outputs": [],
   "source": [
    "with open('debugging_X.txt', 'r') as f:\n",
    "    column_list = [line.strip() for line in f.readlines()]"
   ]
  },
  {
   "cell_type": "code",
   "execution_count": 44,
   "id": "8fa19197-ba10-48e0-b792-1be242b36127",
   "metadata": {},
   "outputs": [
    {
     "name": "stderr",
     "output_type": "stream",
     "text": [
      "/var/folders/52/16l8f4r11n1b1bthpmm5505w0000gn/T/ipykernel_33068/2670171922.py:2: FutureWarning: DataFrame.applymap has been deprecated. Use DataFrame.map instead.\n",
      "  df = df.applymap(lambda x: x.lower() if isinstance(x, str) else x)\n"
     ]
    }
   ],
   "source": [
    "# Convert all string values in the DataFrame to lower case\n",
    "df = df.applymap(lambda x: x.lower() if isinstance(x, str) else x)"
   ]
  },
  {
   "cell_type": "code",
   "execution_count": 46,
   "id": "5a7d3c1a-a155-402e-814e-71b67d15ba20",
   "metadata": {},
   "outputs": [],
   "source": [
    "## define hardcoded_features\n",
    "top_email_domain = ['gmail.com', 'yahoo.com', 'privaterelay.appleid.com', 'icloud.com']\n",
    "top_channel = ['google', 'app', 'facebook', 'invite friend', 'sidelines'] \n",
    "geo_loc = ['california', 'texas', 'florida', 'illinois', 'georgia']\n",
    "platform = ['web', 'app']\n",
    "\n",
    "\n",
    "#####features apply dummy variables function\n",
    "df = process_column(df, \"signup_email_domain\", top_email_domain)\n",
    "df = process_column(df, \"channel\", top_channel)\n",
    "df = process_column(df, \"first_geo_region\", geo_loc)\n",
    "df = process_column(df, \"signup_platform\", platform)"
   ]
  },
  {
   "cell_type": "code",
   "execution_count": 66,
   "id": "49844e2f-bbb5-40e4-9d6e-f14f80a874e7",
   "metadata": {},
   "outputs": [],
   "source": [
    "##transform the columns into log and drop\n",
    "\n",
    "columns_to_transform = [\n",
    "    'total_bet_amt',\n",
    "    'total_win_amt_sc',\n",
    "    'total_win_amt_cc',\n",
    "    'sum_redeem_amt',\n",
    "    'sum_amt_total',\n",
    "    'sum_sc_coin_total'\n",
    "]\n",
    "\n",
    "df = log_transform_columns(df, columns_to_transform)"
   ]
  },
  {
   "cell_type": "code",
   "execution_count": 70,
   "id": "9351ec7a-f9e2-4673-a6b2-68e91539d8ac",
   "metadata": {},
   "outputs": [],
   "source": [
    "df['time_diff_minutes'] = (df['first_purchase_date'] - df['signup_date']).dt.total_seconds() / 3600"
   ]
  },
  {
   "cell_type": "code",
   "execution_count": 72,
   "id": "6317ecd6-c829-4bc8-a384-fd4b90d0b1ce",
   "metadata": {},
   "outputs": [],
   "source": [
    "missing_columns = [col for col in column_list if col not in df.columns]\n",
    "\n",
    "if missing_columns:\n",
    "    print(f\"Error: Missing columns: {', '.join(missing_columns)}\")\n",
    "    exit(1)  # Exit if any column is missing\n",
    "\n",
    "# Generate new variable X from df including the required columns\n",
    "X = df[column_list]"
   ]
  },
  {
   "cell_type": "code",
   "execution_count": 76,
   "id": "720db3b9-8663-466f-a5c4-482fec6411aa",
   "metadata": {},
   "outputs": [],
   "source": [
    "probabilities = xgb_model_loaded.predict_proba(X)\n",
    "df['probability_positive_class'] = probabilities[:, 1]\n",
    "\n",
    "df['potential_vip_ind'] = 0\n",
    "\n",
    "# Filter users with probability above 0.9\n",
    "above_threshold = df[df['probability_positive_class'] >= 0.9]\n",
    "\n",
    "# Randomly select half of those to receive a potential VIP indicator\n",
    "num_to_mark = len(above_threshold) // 2\n",
    "if num_to_mark > 0:\n",
    "    selected_indices = above_threshold.sample(num_to_mark).index\n",
    "    df.loc[selected_indices, 'potential_vip_ind'] = 1\n",
    "\n",
    "# Create a new DataFrame with adjusted probabilities\n",
    "df_vip = df[df['probability_positive_class'] >= 0.9].copy()\n",
    "df_vip.loc[~df_vip.index.isin(selected_indices), 'probability_positive_class'] = np.nan"
   ]
  },
  {
   "cell_type": "code",
   "execution_count": 90,
   "id": "db0ef2c6-c0e2-428a-82c8-1fcbd4580376",
   "metadata": {},
   "outputs": [],
   "source": [
    "# Save DataFrame to a CSV file\n",
    "df_vip.to_csv('df_vip_sep26.csv', index=False)"
   ]
  }
 ],
 "metadata": {
  "kernelspec": {
   "display_name": "Python 3 (ipykernel)",
   "language": "python",
   "name": "python3"
  },
  "language_info": {
   "codemirror_mode": {
    "name": "ipython",
    "version": 3
   },
   "file_extension": ".py",
   "mimetype": "text/x-python",
   "name": "python",
   "nbconvert_exporter": "python",
   "pygments_lexer": "ipython3",
   "version": "3.12.4"
  }
 },
 "nbformat": 4,
 "nbformat_minor": 5
}
